{
 "cells": [
  {
   "cell_type": "markdown",
   "metadata": {},
   "source": [
    "# Demo: Calculate the factorial"
   ]
  },
  {
   "cell_type": "code",
   "execution_count": 1,
   "metadata": {
    "tags": []
   },
   "outputs": [
    {
     "output_type": "stream",
     "name": "stdout",
     "text": "7! is 5040\n"
    }
   ],
   "source": [
    "\"\"\"Calculate the factorial of a non-negative integer\"\"\"\n",
    "number = int(input('Enter a positive number: '))\n",
    "\n",
    "# calculate number!  factorial\n",
    "factorial = 1\n",
    "\n",
    "# 1 * 2 * 3 ... * number \n",
    "\n",
    "# while loop is error-prone, \n",
    "# - need variable to control the loop condition explicitly\n",
    "# - often has missing-by-one bug or infinite loop\n",
    "# index = 2\n",
    "# while index <= number:\n",
    "#     factorial *= index\n",
    "#     index += 1\n",
    "\n",
    "# for n in range(2, number + 1):\n",
    "#     factorial *= n\n",
    "\n",
    "# decrementally\n",
    "for n in range(number, 1, -1):\n",
    "    factorial *= n\n",
    "    \n",
    "print(f'{number}! is {factorial}.')\n"
   ]
  }
 ],
 "metadata": {
  "kernelspec": {
   "name": "Python 3.8.5 64-bit",
   "display_name": "Python 3.8.5 64-bit",
   "metadata": {
    "interpreter": {
     "hash": "aee8b7b246df8f9039afb4144a1f6fd8d2ca17a180786b69acc140d282b71a49"
    }
   }
  },
  "language_info": {
   "codemirror_mode": {
    "name": "ipython",
    "version": 3
   },
   "file_extension": ".py",
   "mimetype": "text/x-python",
   "name": "python",
   "nbconvert_exporter": "python",
   "pygments_lexer": "ipython3",
   "version": "3.8.5-final"
  }
 },
 "nbformat": 4,
 "nbformat_minor": 2
}