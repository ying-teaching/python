{
 "metadata": {
  "language_info": {
   "codemirror_mode": {
    "name": "ipython",
    "version": 3
   },
   "file_extension": ".py",
   "mimetype": "text/x-python",
   "name": "python",
   "nbconvert_exporter": "python",
   "pygments_lexer": "ipython3",
   "version": "3.8.5-final"
  },
  "orig_nbformat": 2,
  "kernelspec": {
   "name": "python38564bita6c660d366ad41288ccc0d1156e7cceb",
   "display_name": "Python 3.8.5 64-bit"
  }
 },
 "nbformat": 4,
 "nbformat_minor": 2,
 "cells": [
  {
   "cell_type": "markdown",
   "source": [
    "# Break and Continue in a Loop\n",
    "\n",
    "This section introduces the `continue` and `break` statements."
   ],
   "metadata": {}
  },
  {
   "cell_type": "markdown",
   "source": [
    "## 1 Concepts\n",
    "\n",
    "In the code block of a `for` or `while` loop, sometimes you want to skip the processing for certain data. For example, when you divide a number by every element in a list, you want to skip the `0` as a divisor because it crashes the program.  You use the `continue` statement to continue to the next iteration of the loop. The following flow chart describes the continue control flow:\n",
    "\n",
    "![continue](images/continue.jpg)\n",
    "\n",
    "In another situate, in some conditions you want to exit the loop execution. For example, you read input from a user in a loop and the user types an `exit` to exit the loop. You use the `break` statement to break out of the loop. The following flow chart describes the break control flow:\n",
    "\n",
    "![break](images/break.jpg)"
   ],
   "metadata": {}
  },
  {
   "cell_type": "markdown",
   "source": [
    "## 1 `continue` Statement\n",
    "\n",
    "As stated above, you use `continue` statement in a certain condition to skip the current iteration and run the next iteration of the loop."
   ],
   "metadata": {}
  },
  {
   "cell_type": "code",
   "execution_count": null,
   "source": [
    "dividend = 100\n",
    "numbers = [3, 5, 7, 0, 9, 2]\n",
    "\n",
    "for number in numbers:\n",
    "    print(f'The element is {number}')\n",
    "    if number == 0:\n",
    "        print(f'ooops, zero cannot be a divisor')\n",
    "        continue\n",
    "    \n",
    "    quotient = dividend / number\n",
    "    print(f'The quotient of {dividend}/{number} is {quotient: .2f}')\n"
   ],
   "outputs": [],
   "metadata": {
    "tags": []
   }
  },
  {
   "cell_type": "markdown",
   "source": [
    "2 The `break` Statement\n",
    "\n",
    "Similar to the `continue` statement, you check a condition that you want exit a loop, if the condition is `true`, you use `break` to exit the loop and jumps to the next element after the loop structure. "
   ],
   "metadata": {}
  },
  {
   "cell_type": "code",
   "execution_count": null,
   "source": [
    "dividend = 100\n",
    "numbers = [3, 5, 7, 0, 9, 2]\n",
    "\n",
    "for number in numbers:\n",
    "    print(f'The element is {number}')\n",
    "    if number == 0:\n",
    "        print(f'ooops, zero divisor, clean your data first')\n",
    "        break\n",
    "    \n",
    "    quotient = dividend / number\n",
    "    print(f'The quotient of {dividend}/{number} is {quotient: .2f}')\n",
    "\n",
    "print('Done')"
   ],
   "outputs": [],
   "metadata": {
    "tags": []
   }
  },
  {
   "cell_type": "markdown",
   "source": [
    "The above code exits from the loop when it sees a `0`. "
   ],
   "metadata": {}
  },
  {
   "cell_type": "markdown",
   "source": [
    "## 3 Use Both `continue` and `break`\n",
    "\n",
    "The following example uses both statements."
   ],
   "metadata": {}
  },
  {
   "cell_type": "code",
   "execution_count": null,
   "source": [
    "# a sentinel is a special value that marks the end.\n",
    "SENTINEL = -1\n",
    "dividend = 100\n",
    "\n",
    "prompt = f'Please input an integer, input {SENTINEL} to exit: '\n",
    "while True:\n",
    "    number = int(input(prompt))\n",
    "    print(f'The input nubmer is {number}')\n",
    "    if number == 0:\n",
    "        print(f'Zero cannot be a divisor, ignored.')\n",
    "        continue\n",
    "\n",
    "    if number == SENTINEL:\n",
    "        break\n",
    "\n",
    "    # now the normal logic to process the data\n",
    "    quotient = dividend / number\n",
    "    print(f'The quotient of {dividend}/{number} is {quotient: .2f}')\n",
    "\n",
    "print('Done')"
   ],
   "outputs": [],
   "metadata": {
    "tags": []
   }
  },
  {
   "cell_type": "markdown",
   "source": [
    "The code `while True:` looks weired if it is the first time you see it. It looks like an infinit loop because the condition is always true. For this clause, there must be a `break` statement in the code block to exit the loop at a certain condtion. The code can be revised to get an input first and check the sentinel in the `while` clause. Following is a version that checks the sentinel in `while` clause."
   ],
   "metadata": {}
  },
  {
   "cell_type": "code",
   "execution_count": null,
   "source": [
    "SENTINEL = -1\n",
    "dividend = 100\n",
    "prompt = f'Please input an integer, input {SENTINEL} to exit: '\n",
    "\n",
    "number = int(input(prompt))\n",
    "while number != SENTINEL:\n",
    "    print(f'The input nubmer is {number}')\n",
    "    if number == 0:\n",
    "        print(f'Zero cannot be a divisor, ignored.')\n",
    "        number = int(input('Please input an integer, input -1 to exit: '))\n",
    "        continue\n",
    "\n",
    "    # now the normal logic to process the data\n",
    "    quotient = dividend / number\n",
    "    print(f'The quotient of {dividend}/{number} is {quotient: .2f}')\n",
    "\n",
    "    # must have code to change the number\n",
    "    number = int(input('Please input an integer, input -1 to exit: '))\n",
    "\n",
    "print('Done')"
   ],
   "outputs": [],
   "metadata": {
    "tags": [
     "outputPrepend"
    ]
   }
  },
  {
   "cell_type": "markdown",
   "source": [
    "Because we use the `while` cluase `while number != SENTINEL:`, there is no need to use `break` statement. However, we need to read input inside the code block thus the user can input the sentinel value to exit the loop. The two versions have the same behavior, you can use either of them. "
   ],
   "metadata": {}
  },
  {
   "cell_type": "markdown",
   "source": [
    "## 4 Exercise\n",
    "\n",
    "Exerice 4-4: write a progam that prints the first 5 odd numbers from the list `[3, 8, 10, 5, 7, 0, 9, 2]`."
   ],
   "metadata": {}
  }
 ]
}