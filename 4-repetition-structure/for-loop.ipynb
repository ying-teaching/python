{
 "metadata": {
  "language_info": {
   "codemirror_mode": {
    "name": "ipython",
    "version": 3
   },
   "file_extension": ".py",
   "mimetype": "text/x-python",
   "name": "python",
   "nbconvert_exporter": "python",
   "pygments_lexer": "ipython3",
   "version": "3.8.5-final"
  },
  "orig_nbformat": 2,
  "kernelspec": {
   "name": "python38564bita6c660d366ad41288ccc0d1156e7cceb",
   "display_name": "Python 3.8.5 64-bit"
  }
 },
 "nbformat": 4,
 "nbformat_minor": 2,
 "cells": [
  {
   "cell_type": "markdown",
   "source": [
    "# `for` Loop\n",
    "\n",
    "This section introduces the sequence of data items using `list` and `range`. The `for` loop is used to iterate a sequence of data items. `for` checks the exit condition automatically therefore it is safer than `while`.\n",
    "\n",
    "## 1 A Sequence of Data\n",
    "\n",
    "When you need to process a sequence of data items, you put them into a pair of brackets like `[item1, item2, item3, ...]`. A collection of items enclosed in a pair of brackets is called a `list`. The following are two lists:"
   ],
   "metadata": {}
  },
  {
   "cell_type": "code",
   "execution_count": null,
   "source": [
    "students = ['Alice', 'Bob', 'Cindy']\n",
    "scores = [80, 90, 100]\n",
    "\n",
    "print(students[0], students[1], students[2])\n",
    "print(scores[0], scores[1], scores[2])"
   ],
   "outputs": [],
   "metadata": {
    "tags": []
   }
  },
  {
   "cell_type": "markdown",
   "source": [
    "The first is a list of strings. The second is a list of numbers. Each item in the list can be accessed using its location (called `index`) in the list. The syntax is `list_variable[index]`. The `index` starts from 0 up to the length, but not including the length. For a list of three elememts, the valid indexes are `0`, `1` and `2`."
   ],
   "metadata": {}
  },
  {
   "cell_type": "markdown",
   "source": [
    "## 2 The `range` Function\n",
    "\n",
    "Python has a built-in function `range` that generates a sequence of numbers. The function can take one, two, or three arguments. \n",
    "\n",
    "- `range(n)`: generate a sequence of integers in the range of `0` up to, but not including, the number `n`. For example, `range(3)` generates a seuqnce of `0`, `1` and `2`.\n",
    "- `range(m, n)`: generate a sequence of integers in the range of `m` up to, but not including, the number `n`. For example, `range(3, 7)` generates a sequence of `3`, `4`, `5`, and `6`.\n",
    "- `range(m, n, step)`, generate a sequence of integers in the range of `m` up to, but not including, the number `n`, the generate numbers increase at the specified step. For example, `range(3, 7, 2)` generates a sequence of `3` and `5`. `7` is not in the generated list because numbers biggern than or equal to `7` are excluded.\n",
    "\n",
    "It is possible to use a negative step in a `range` function to generate a list from high to low. For example, `range(3, 0, -1)` generates a list of `[3, 2, 1]`. "
   ],
   "metadata": {}
  },
  {
   "cell_type": "markdown",
   "source": [
    "## 3 The `for` Loop\n",
    "\n",
    "The syntax of `for` loop is as the following:\n",
    "\n",
    "```python\n",
    "for variable_name in sequence:\n",
    "   statement\n",
    "   statement\n",
    "   ...\n",
    "```\n",
    "\n",
    "Like the decision structure, the `for` loop has two parts: a `for` clause and a code block. The `for` clause gets each element from a `sequence` that is a list or a `range` function, assigns the item to an variable and execute the code block. It completes when there is no more elements in the seuqnce. The variable used in the `for` clause is called a `target variable` because it is assigned the value of each element in the sequence in each loop iteration. Again, it is important to give it a meaningful variable name.\n",
    "\n",
    "\n",
    "Conceptually, it works as the following flow chart:\n",
    "\n",
    "![for](images/for.jpg)\n",
    "\n",
    "Following are two examples that print out elements in a sequence -- you use the target variable to access each element:"
   ],
   "metadata": {}
  },
  {
   "cell_type": "code",
   "execution_count": null,
   "source": [
    "students = ['Alice', 'Bob', 'Cindy']\n",
    "for student in students:\n",
    "    print(student)\n",
    "print('All students are printed\\n')\n",
    "\n",
    "for item in range(3, 10, 2):\n",
    "    print(f'Curent item: {item}')\n",
    "print ('Printed all items')"
   ],
   "outputs": [],
   "metadata": {
    "tags": []
   }
  },
  {
   "cell_type": "markdown",
   "source": [
    "## 4 The List Length\n",
    "\n",
    "The `len` built-in function returns the number of items in a list. "
   ],
   "metadata": {}
  },
  {
   "cell_type": "code",
   "execution_count": null,
   "source": [
    "students = ['Alice', 'Bob', 'Cindy']\n",
    "print(len(students))"
   ],
   "outputs": [],
   "metadata": {
    "tags": []
   }
  },
  {
   "cell_type": "markdown",
   "source": [
    "The following code calculate the average of a list of intgers:"
   ],
   "metadata": {}
  },
  {
   "cell_type": "code",
   "execution_count": null,
   "source": [
    "scores = [80, 90, 100, 60, 77, 59, 92]\n",
    "total = 0\n",
    "\n",
    "for score in scores:\n",
    "    total += score\n",
    "\n",
    "average = total / len(scores)\n",
    "print(f'The average score is {average: .2f}')"
   ],
   "outputs": [],
   "metadata": {
    "tags": []
   }
  },
  {
   "cell_type": "markdown",
   "source": [
    "The above code is for demo only. In production code, there is a built-in function `sum` that can be used to calculate the total of a list of numbers. There are also built-in functions computing the minimum value `min` and maximum value `max`. You should learn [Numeric and Math Modules](https://docs.python.org/3/library/numeric.html) after you learn the basic Python syntax."
   ],
   "metadata": {}
  },
  {
   "cell_type": "code",
   "execution_count": null,
   "source": [
    "scores = [80, 90, 100, 60, 77, 59, 92]\n",
    "total = sum(scores)\n",
    "average = total / len(scores)\n",
    "print(f'The total is {total}, average is {average: .2f}, min is {min(scores)}, max is {max(scores)}')"
   ],
   "outputs": [],
   "metadata": {
    "tags": []
   }
  },
  {
   "cell_type": "markdown",
   "source": [
    "## 5 The Index Idiom\n",
    "\n",
    "You can compose the `len` and the `range` functions to generate a sequence of the index numbers for a list. For the above students list, the composed function `range(len(students))` generates a sequence of 0, 1 and 2.\n",
    "\n",
    "Actually, it is an idiom in Python to use the composed function to access both the item and its index in a list. Following is an example to display students and there places in the list. For a typical business user, the index should starts from 1, not 0.\n"
   ],
   "metadata": {}
  },
  {
   "cell_type": "code",
   "execution_count": null,
   "source": [
    "students = ['Alice', 'Bob', 'Cindy']\n",
    "for student in students:\n",
    "    print(student)\n",
    "print('All students are printed\\n')"
   ],
   "outputs": [],
   "metadata": {
    "tags": []
   }
  },
  {
   "cell_type": "markdown",
   "source": [
    "As an exercise, you can write the above code using `while` loop and compare the two versions to see the differences and  pros and cons. \n",
    "\n",
    "Using f-string, you can format the output as the following:"
   ],
   "metadata": {}
  },
  {
   "cell_type": "code",
   "execution_count": null,
   "source": [
    "# It is a good idea to give a constant a good name\n",
    "PLACE_WIDTH = 5\n",
    "NAME_WIDTH = 20\n",
    "\n",
    "students = ['Alice', 'Bob', 'Cindy']\n",
    "\n",
    "# the format modifier can use variables too !!!\n",
    "print(f'{\"Place\": >{PLACE_WIDTH}} {\"Name\": >{NAME_WIDTH}}')\n",
    "\n",
    "# Python support * for string\n",
    "print('-' * PLACE_WIDTH, '-' * NAME_WIDTH)\n",
    "for index in range(len(students)):\n",
    "    print(f'{index + 1: >{PLACE_WIDTH}} {students[index]: >{NAME_WIDTH}}')"
   ],
   "outputs": [],
   "metadata": {
    "tags": []
   }
  },
  {
   "cell_type": "markdown",
   "source": [
    "## 6 Nested Loop\n",
    "\n",
    "In the code block of a loop statement, you can have another loop statement, this is called nested loop. Conceptually it is rather simple, just treat the nested loop as a regular statement and everything becomes clear. Following is an example,"
   ],
   "metadata": {}
  },
  {
   "cell_type": "code",
   "execution_count": null,
   "source": [
    "numbers = [1, 2, 3]\n",
    "chars = [\"A\", \"B\", \"C\"]\n",
    "\n",
    "print('Outside loop')\n",
    "for number in numbers:\n",
    "    print('Inside number loop')\n",
    "    for char in chars:\n",
    "        print('Inside char loop')\n",
    "        print(number, char)"
   ],
   "outputs": [],
   "metadata": {
    "tags": []
   }
  },
  {
   "cell_type": "markdown",
   "source": [
    "As you can see, the inner `for char` loop is repeated for each number in the outer `for number` loop. Practice more and you will have a better understanding."
   ],
   "metadata": {}
  },
  {
   "cell_type": "markdown",
   "source": [
    "## 7 Exercise\n",
    "\n",
    "Exercise 4-3: change the following `for` loop code to use `while` loop."
   ],
   "metadata": {}
  },
  {
   "cell_type": "code",
   "execution_count": null,
   "source": [
    "students = ['Alice', 'Bob', 'Cindy']\n",
    "for student in students:\n",
    "    print(student)\n",
    "print('All students are printed\\n')"
   ],
   "outputs": [],
   "metadata": {}
  }
 ]
}