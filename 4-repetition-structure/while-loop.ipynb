{
 "metadata": {
  "language_info": {
   "codemirror_mode": {
    "name": "ipython",
    "version": 3
   },
   "file_extension": ".py",
   "mimetype": "text/x-python",
   "name": "python",
   "nbconvert_exporter": "python",
   "pygments_lexer": "ipython3",
   "version": "3.9.1-final"
  },
  "orig_nbformat": 2,
  "kernelspec": {
   "name": "python38564bita6c660d366ad41288ccc0d1156e7cceb",
   "display_name": "Python 3.8.5 64-bit",
   "language": "python"
  }
 },
 "nbformat": 4,
 "nbformat_minor": 2,
 "cells": [
  {
   "cell_type": "markdown",
   "source": [
    "# `while` Loop\n",
    "\n",
    "This section introduces the concepts of `while` statement and infinite loop.\n",
    "\n",
    "## 1 The `while` Concept\n",
    "\n",
    "It it a common scenario that you repeat some actions when a certain condition is ture. \n",
    "\n",
    "- You repeatly \"learn\" while you don't understand a topic; \n",
    "- You repeatly \"cook\" rice while the rice is not cooked. \n",
    "- Your program keeps asking a user to give an input if the current input is invalid.\n",
    "\n",
    "The following digram shows the concept.\n",
    "\n",
    "![while](images/while.jpg)"
   ],
   "metadata": {}
  },
  {
   "cell_type": "markdown",
   "source": [
    "## 2 `while` statement\n",
    "\n",
    "As depected in the above diagram, the `while` statement has a `while` cluase and a code block. The syntax is as the following:\n",
    "\n",
    "```python\n",
    "while condition:\n",
    "    statement\n",
    "    statement\n",
    "    ...\n",
    "\n",
    "statement // after-while statement\n",
    "```\n",
    "\n",
    "When the condition is true, it repeatedly excute the statements in the code block. If the condition becomes false, it skip the code block and runs the statements below it. Below is an example:"
   ],
   "metadata": {}
  },
  {
   "cell_type": "code",
   "execution_count": null,
   "source": [
    "# a program to calculate the total of user inputs\n",
    "total = 0\n",
    "confirmation = 'yes'\n",
    "\n",
    "while confirmation == 'yes':\n",
    "    number = int(input('Please input an integer: '))\n",
    "    total += number # += is an abbreviation of total = total + num\n",
    "    confirmation = input('more numbers? yes for continue, otherwise stop.')\n",
    "\n",
    "print(f'The total is {total}')\n"
   ],
   "outputs": [],
   "metadata": {
    "tags": []
   }
  },
  {
   "cell_type": "markdown",
   "source": [
    "In the above code, `total += number` is a so-called `augmented assignment operator`. It represent `total = total + number`. Similarly, there are `-=`, `*=`, `/=`, `%=` that combines an assignment with an arithmatic computation. The actual first argument is the left-hand-side (LHS) variable. \n",
    "\n",
    "Because the `while` cluase checks a condition, the code first set some initial value for the condtion. Here we set the confirmation to `'yes'` thus when Python executes the `while` statement, the condition is ture and the statements in the code block are executed. When the confirmation input is not `'yes'`, it skip the code block and run the statement(s) below the `while` statement."
   ],
   "metadata": {}
  },
  {
   "cell_type": "markdown",
   "source": [
    "## 3 Infinit Loop\n",
    "\n",
    "It is very important to change the condition in the code block of a `while` statement. Following is a program that we want to calculate the sum from 1 to 10.\n"
   ],
   "metadata": {}
  },
  {
   "cell_type": "code",
   "execution_count": null,
   "source": [
    "total = 0 # don't use sum as the variable name because it is a built-in function name\n",
    "number = 1\n",
    "while number <= 10:\n",
    "    total += number\n",
    "\n",
    "print(f'The total from 1 to 10 is {total}')"
   ],
   "outputs": [],
   "metadata": {}
  },
  {
   "cell_type": "markdown",
   "source": [
    "If you run the above code, it never end until the system fails to handle a big number or out of memory. The program enters an infinit loop. The reason is the the `while` clause is always evaluate to `True`. To fix it, you should change the condition in the code block. Below is a correct version."
   ],
   "metadata": {}
  },
  {
   "cell_type": "code",
   "execution_count": null,
   "source": [
    "sum = 0\n",
    "number = 1\n",
    "while (number <= 10):\n",
    "    sum += number\n",
    "    number += 1\n",
    "\n",
    "print(f'The sum from 1 to 10 is {sum}')"
   ],
   "outputs": [],
   "metadata": {
    "tags": []
   }
  },
  {
   "cell_type": "markdown",
   "source": [
    "Whenever you write a `while` statement, remeber to change the condition inside the code block to avoid infinit loop."
   ],
   "metadata": {}
  },
  {
   "cell_type": "markdown",
   "source": [
    "## 4 Sentinel\n",
    "\n",
    "The `while` cluase checks a boolean expression to control the iteration. If you use a variable value to represent the `completion`/`end`/`stop` case, the value is called a sentinel. It is important that a sentinel should not be a normal input value, otherwise the program can not tell the special end value from normal values. For example, if a program asks user to input positive numbers, it can use `-1` to mark the end of the while loop. "
   ],
   "metadata": {}
  },
  {
   "cell_type": "code",
   "execution_count": null,
   "source": [
    "# a program to calculate the total of user inputs\n",
    "total = 0\n",
    "number = int(input('Please input a positive number, input -1 to stop: '))\n",
    "while number != -1:\n",
    "    total += number # += is an abbreviation of total = total + num\n",
    "    number = int(input('Please input a positive number, input -1 to stop: '))\n",
    "\n",
    "print(f'The total is {total}')"
   ],
   "outputs": [],
   "metadata": {}
  },
  {
   "cell_type": "markdown",
   "source": [
    "## 5 Two Exercises\n",
    "\n",
    "Exercise 4-1: in the above sentinel code example, the prompt message is repeated before and after `while`. Please change the code to call the `input` function in onlyh one place.\n",
    "\n",
    "Exercise 4-2: the following code runs an infinit loop, can you tell what's wrong? Try to fix it."
   ],
   "metadata": {}
  },
  {
   "cell_type": "code",
   "execution_count": null,
   "source": [
    "total = 0\n",
    "confirmation = 'yes'\n",
    "\n",
    "while confirmation == 'yes':\n",
    "    number = int(input('Please input an integer: '))\n",
    "    total += number # += is an abbreviation of sum = sum + num\n",
    "    confirmat1on = input('more numbers? yes for continue, otherwise stop.')\n",
    "\n",
    "print(f'The total is {total}')"
   ],
   "outputs": [],
   "metadata": {}
  }
 ]
}