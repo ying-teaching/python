{
 "metadata": {
  "language_info": {
   "codemirror_mode": {
    "name": "ipython",
    "version": 3
   },
   "file_extension": ".py",
   "mimetype": "text/x-python",
   "name": "python",
   "nbconvert_exporter": "python",
   "pygments_lexer": "ipython3",
   "version": "3.9.6"
  },
  "orig_nbformat": 2,
  "kernelspec": {
   "name": "python3",
   "display_name": "Python 3.9.6 64-bit"
  },
  "interpreter": {
   "hash": "aee8b7b246df8f9039afb4144a1f6fd8d2ca17a180786b69acc140d282b71a49"
  }
 },
 "nbformat": 4,
 "nbformat_minor": 2,
 "cells": [
  {
   "cell_type": "markdown",
   "source": [
    "# Hello World\n",
    "\n",
    "In this section, you will learn:\n",
    "\n",
    "- Saying \"Hello World!\" in Python.\n",
    "- Basic programming concepts of `function`, `literal`, `string`, `docstring`, `comment`, and `whitespace`.\n",
    "- That there is a style in programming and the style matters.\n",
    "\n",
    "## 1 Your First Program\n",
    "\n",
    "We follow the tradition from C programming language to say \"Hello World\" as the first program in learning a programming language. In Python, it is pretty simple. If you know how to say it in other programming languages like C or Java, you will appreciate its simplicity and elegance. Nonetheless, for a beginner, this single line of code has a lot of constructs/concepts in it.\n"
   ],
   "metadata": {}
  },
  {
   "cell_type": "code",
   "execution_count": null,
   "source": [
    "print('Hello World!')"
   ],
   "outputs": [],
   "metadata": {
    "tags": []
   }
  },
  {
   "cell_type": "markdown",
   "source": [
    "### Part 1: `print`\n",
    "\n",
    "`print` is the name of a Python's built-in function that displays (prints) something to your computer console:\n",
    "\n",
    "- A function is a piece of program that performs a specific task. Here, it displays a message to your computer sonsole. A `console` is your terminal (Mac OS or Linux) or commmand line (Windows) screen.\n",
    "- The `print` function is provided by the Python interpreter, thus it is a `built-in` function. Your program will define many functions to perform different tasks for your problem domain. These functions are application functions, not built-in functions.  \n",
    "- A function, as defined in math, takes some values as its input and produce an output. Those input values are called `arguments` of a function.\n",
    "\n",
    "### Part 2: `()`\n",
    "\n",
    "The `()` is a pair of parentheses that separates a function name from its arguments. The arguments (input) of the function are put inside a pair of parenthese after a function name.\n",
    "\n",
    "### Part 3: `'Hello World!'`\n",
    "\n",
    "The `'Hello World!'` is the input for the function. It is the single argument in the above function call.\n",
    "\n",
    "- It is a `string literal`.\n",
    "- The `string` is the data type of `'Hello World!'`. A data type defines a set of data that share some common properties. For example, a `string` has a sequence of characters quoted in a pair of single quotation marks.\n",
    "- A `literal` is a programming notation/representation for a fix value in source code. Here, you want to say the sequnence of characters of `Hello World!` that is a string data type in Python. Python requires that string literals be quoted in a pair of single quotation marks.\n",
    "- You will see that different data types have different notations for their corresponding fixed values.\n",
    "\n",
    "### All together: `print('Hello World!')`\n",
    "\n",
    "When you write a function name, followed by a parenthese and its arguments inside the parenthese, you `call` the function to perform a specific task for the specific arguments.\n",
    "\n",
    "Because calling a function is an essential thing in programming, it has different names that have the same meaning:\n",
    "\n",
    "- `call` a function: a function `call`\n",
    "- `execute` a function: a function `execution`\n",
    "- `invoke` a function: a funciton `invocation`\n",
    "- `apply` a function to some arguments: a function `application`\n",
    "\n",
    "It is also common to say `call upon a function`, `execute/invok/apply/run a function`, or `start a function`.\n",
    "\n",
    "Together, `print('Hello World!')` is a function call or a function execution. It is executed by Python to display the \"Hello World!\" to the console.\n"
   ],
   "metadata": {}
  },
  {
   "cell_type": "markdown",
   "source": [
    "## 2 Notations for String Literals\n",
    "\n",
    "A string is a sequence of characters. A **String Literal** is a specific string in source code. Becuase string literals are useful in many places in source code, Python has three notations for string literals. You can use a pair of single quotations, a pair of double quotations, or a pair of triple quotations.\n",
    "\n",
    "- single quotation marks: `'Hello Wordl!'`\n",
    "- double quotation marks: `\"Hello World!\"`\n",
    "- triple quotation marks: `\"\"\"Hello World!\"\"\"`\n",
    "\n",
    "The following three lines of code perform the same taks: write the sequnce of characters of `Hello World!` to the console:\n"
   ],
   "metadata": {}
  },
  {
   "cell_type": "code",
   "execution_count": null,
   "source": [
    "print('Hello World!')\n",
    "print(\"Hello World!\")\n",
    "print(\"\"\"Hello World!\"\"\")"
   ],
   "outputs": [],
   "metadata": {}
  },
  {
   "cell_type": "markdown",
   "source": [
    "Of course, Python define three notations purposely: they are used in different places. You will find out."
   ],
   "metadata": {}
  },
  {
   "cell_type": "markdown",
   "source": [
    "## 3 Docstring\n",
    "\n",
    "When you open a source code file, what do you want to see first?\n",
    "\n",
    "A thousand lines of Python source code? Probably not.\n",
    "\n",
    "Yes, you want to see a description/summary of this code file. You want to see the document first to get a better understanding of the purposes and functions of the code before diving into the details. An experienced programmer knows two best practices in programming:\n",
    "\n",
    "- You write code for people to read, not for computers. In average, for a line of code, you or your colleagues will read/change it more than 10 times. It is better to document the code.\n",
    "- Code and documentation must reside in the same place. Keeping the code and document consistent and easy to find is an essential task of programming.\n",
    "\n",
    "Python uses a string enclosd by a pair of tripple quotation marks for inline code documentation -- such a string is called a **docstring**. You should write doctsring at the top of a code file (.py file) or when you define a function. Python interpreter ingores docstrings.\n"
   ],
   "metadata": {}
  },
  {
   "cell_type": "code",
   "execution_count": null,
   "source": [
    "\"\"\"The following code demos the different notation of string literals\"\"\"\n",
    "\n",
    "print('He said: \"Hello Wordl!\"')\n",
    "print(\"She said: 'Hello World!'\")\n",
    "print(\"\"\"He said: \"Hello Wordl!\" and She said: 'Hello World!'\"\"\")"
   ],
   "outputs": [],
   "metadata": {}
  },
  {
   "cell_type": "markdown",
   "source": [
    "In the above code, the docstring documents the purpose of the following code. For a large project that has many source code files, the inline documents have tremendous value for code maintenance. \n",
    "\n",
    "As shown in the above code, you can use single quotation marks inside a pair of double quotation marks or vise versa. You can use both single quotation marks and dobule quotation marks inside a pair of triple quotation marks. Triple quotation marks are used primarily in two cases:\n",
    "\n",
    "- To write doctstring.\n",
    "- To write a string that has many single/double quotation marks.\n",
    "\n",
    "If you want represent the two characters of `Hi` in your code, which notation do you use?"
   ],
   "metadata": {}
  },
  {
   "cell_type": "code",
   "execution_count": null,
   "source": [
    "\"\"\"Which notation do you use? \"\"\"\n",
    "\n",
    "print('Hi')\n",
    "print(\"Hi\")\n",
    "print(\"\"\"Hi\"\"\")"
   ],
   "outputs": [],
   "metadata": {}
  },
  {
   "cell_type": "markdown",
   "source": [
    "## 4 Code Comments\n",
    "\n",
    "It is a best practice to write comments about code that is not obvious. Good comments are for human being and they are part of the source code that help code maitenance in the long run. Python intepreter ignores comments. \n",
    "\n",
    "You begin a comment with the `#` character. It can be in a seperate line or at the end of a line of code. The following shows a docstring, a comment line and an end-line comment."
   ],
   "metadata": {}
  },
  {
   "cell_type": "code",
   "execution_count": null,
   "source": [
    "\"\"\"Demo a comment line and an end-line comment\"\"\"\n",
    "\n",
    "# Reserve triple quotes for docstring, not for simple string literal\n",
    "print(\"\"\"Hi\"\"\") \n",
    "\n",
    "# Which of the following? \n",
    "print('Hi') # a pair of single quotation marks\n",
    "print(\"Hi\") # a pair of double quotation marks"
   ],
   "outputs": [],
   "metadata": {
    "tags": []
   }
  },
  {
   "cell_type": "markdown",
   "source": [
    "## 5 Whitespaces\n",
    "\n",
    "There are blank lines and space characters in the above code. Together they are called whitespaces. White spaces are primarily for two puporses:\n",
    "\n",
    "- To makr a boundary between different programming constructs. For example, two lines of code are separated by a new line character.\n",
    "- To structure the code more readable.\n",
    "\n",
    "A whitespace character maybe invisible (for example, a new line character) but occupies an area in a file. You should use blank lines and spaces to have a better code layout.\n",
    "\n",
    "- Use a blank line to seperate different sections of code\n",
    "- Use a space to separate different constructs. For example, separate code from its end-line comments.\n"
   ],
   "metadata": {}
  },
  {
   "cell_type": "markdown",
   "source": [
    "## 6 The Zen of Python\n",
    "\n",
    "The simplicity and elgance of Python are not by accident, they are the result of a long endeavor directed by principles. According to [Zen of Python in Wikipedia](https://en.wikipedia.org/wiki/Zen_of_Python)\n",
    "> The Zen of Python is a collection of 19 \"guiding principles\" for writing computer programs that influence the design of the Python programming language\n",
    "\n",
    "You can open \"Easter Egg\" in Python with code:\n"
   ],
   "metadata": {}
  },
  {
   "cell_type": "code",
   "execution_count": 1,
   "source": [
    "import this"
   ],
   "outputs": [
    {
     "output_type": "stream",
     "name": "stdout",
     "text": [
      "The Zen of Python, by Tim Peters\n",
      "\n",
      "Beautiful is better than ugly.\n",
      "Explicit is better than implicit.\n",
      "Simple is better than complex.\n",
      "Complex is better than complicated.\n",
      "Flat is better than nested.\n",
      "Sparse is better than dense.\n",
      "Readability counts.\n",
      "Special cases aren't special enough to break the rules.\n",
      "Although practicality beats purity.\n",
      "Errors should never pass silently.\n",
      "Unless explicitly silenced.\n",
      "In the face of ambiguity, refuse the temptation to guess.\n",
      "There should be one-- and preferably only one --obvious way to do it.\n",
      "Although that way may not be obvious at first unless you're Dutch.\n",
      "Now is better than never.\n",
      "Although never is often better than *right* now.\n",
      "If the implementation is hard to explain, it's a bad idea.\n",
      "If the implementation is easy to explain, it may be a good idea.\n",
      "Namespaces are one honking great idea -- let's do more of those!\n"
     ]
    }
   ],
   "metadata": {
    "tags": []
   }
  },
  {
   "cell_type": "markdown",
   "source": [
    "These are the coding principles you should follow in your programs too. If you like, you may want to [sing along](https://youtu.be/i6G6dmVJy74?t=33) when you write Python progrom. "
   ],
   "metadata": {}
  },
  {
   "cell_type": "markdown",
   "source": [
    "## 7 Style Guide\n",
    "\n",
    "The foregoing principle are abstract. Python has an official document describing concrete coding conventions. It is called [PEP 8 -- Style Guide for Python Code](https://www.python.org/dev/peps/pep-0008/). PEP stands for \"Python Enhancemment Proposal\". PEPs are suggested standard from Python community. PEP 8 has rules such as:\n",
    "\n",
    "- Limit all lines to a maximum of 79 characters.\n",
    "- Indentation: Use 4 spaces per indentation level.\n",
    "- Variable and constant naming conventions.\n",
    "\n",
    "The good news is that VS code Python extension has a tool that check the code style for you. The tool is often called a `lint` or `linter`. When you install the `Python` extension in VS Code, the Python lint is included and enabled. It can format your code automatically according to defined styles that you can customize.\n",
    "\n",
    "\n",
    "However, not every detail of programming can be covered by rules.  For example:\n"
   ],
   "metadata": {}
  },
  {
   "cell_type": "code",
   "execution_count": null,
   "source": [
    "# Which style to use? \n",
    "print('Hi') # a pair of single quotation marks\n",
    "print(\"Hi\") # a pair of double quotation marks"
   ],
   "outputs": [],
   "metadata": {}
  },
  {
   "cell_type": "markdown",
   "source": [
    "Python style guide recommends single quotation and double quotation equally for string literals. However, a company, a team or a programmer should choose a style and use it consistenly.\n",
    "\n",
    "Which one do you choose? Most programmers are lazy therefore they choose the single quotataion mark for less typing."
   ],
   "metadata": {}
  }
 ]
}