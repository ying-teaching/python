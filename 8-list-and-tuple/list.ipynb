{
 "metadata": {
  "language_info": {
   "codemirror_mode": {
    "name": "ipython",
    "version": 3
   },
   "file_extension": ".py",
   "mimetype": "text/x-python",
   "name": "python",
   "nbconvert_exporter": "python",
   "pygments_lexer": "ipython3",
   "version": "3.9.4"
  },
  "orig_nbformat": 2,
  "kernelspec": {
   "name": "python394jvsc74a57bd0aee8b7b246df8f9039afb4144a1f6fd8d2ca17a180786b69acc140d282b71a49",
   "display_name": "Python 3.9.4 64-bit"
  },
  "metadata": {
   "interpreter": {
    "hash": "aee8b7b246df8f9039afb4144a1f6fd8d2ca17a180786b69acc140d282b71a49"
   }
  }
 },
 "nbformat": 4,
 "nbformat_minor": 2,
 "cells": [
  {
   "source": [
    "# List\n",
    "\n",
    "This section introduces the list data type and basic list operations."
   ],
   "cell_type": "markdown",
   "metadata": {}
  },
  {
   "source": [
    "## 1 Introduction to Lists\n",
    "\n",
    "A `list` is an object that contains multiple data items, one after another. Therefore a list is also a sequence. The item in an list is called an `element`. \n",
    "\n",
    "There are two common ways to create a list. First, you can create a list literally by listing elements in brackets and separating by commas. For example:"
   ],
   "cell_type": "markdown",
   "metadata": {}
  },
  {
   "cell_type": "code",
   "execution_count": null,
   "metadata": {},
   "outputs": [],
   "source": [
    "# a list of numbers\n",
    "some_numbers = [3, 5 ,7]\n",
    "\n",
    "# a list of strings\n",
    "names = ['Alice', 'Bob', 'Cindy']\n",
    "\n",
    "# elements can be of different types\n",
    "some_data = [3, 'Alice', 12.5] "
   ]
  },
  {
   "source": [
    "Second, Python has a built-in `list()` function that can convert certain types of objects to lists. For example, you can convert a range object to a list as the following:"
   ],
   "cell_type": "markdown",
   "metadata": {}
  },
  {
   "cell_type": "code",
   "execution_count": null,
   "metadata": {},
   "outputs": [],
   "source": [
    "generated_numbers = list(range(3, 8, 2))\n",
    "\n",
    "# print can print a list directly\n",
    "print(generated_numbers)"
   ]
  },
  {
   "source": [
    "## 2 Accesing List Elements\n",
    "\n",
    "A list has a sequence of elements. A basic requirement is to access one element, all elements or some elements."
   ],
   "cell_type": "markdown",
   "metadata": {}
  },
  {
   "source": [
    "### 2.1 Indexing\n",
    "\n",
    "To access a single element of a list, use an `index`. Each element in a list has an index associated with it, starting from `0`. The first element has an index of `0`, the second element has an index of `1`, and so on and so forth. The last element has an index of the list length minus `1`.\n",
    "\n",
    "The synatx is to put an index in a pair of brackets, right after the list variable name."
   ],
   "cell_type": "markdown",
   "metadata": {}
  },
  {
   "cell_type": "code",
   "execution_count": null,
   "metadata": {},
   "outputs": [],
   "source": [
    "numbers = [3, 5 ,7]\n",
    "\n",
    "print(numbers[0], numbers[1], numbers[2])"
   ]
  },
  {
   "source": [
    "Python supports negative index. `-1` identifies the last elment in a list, `-2` identifies the next to last element, and so on an so forth. The following statement print the elements in the reverse order."
   ],
   "cell_type": "markdown",
   "metadata": {}
  },
  {
   "cell_type": "code",
   "execution_count": null,
   "metadata": {},
   "outputs": [],
   "source": [
    "numbers = [3, 5 ,7]\n",
    "\n",
    "print(numbers[-1], numbers[-2], numbers[-3])"
   ]
  },
  {
   "source": [
    "A common error in Python is the `IndexError`: it happens when the index is out of the boundary of a list. The valid index of `[3, 5 7]` is the range from `-3` to `2`. Outside this range, the code crashes with an error: `IndexError: list index out of range`."
   ],
   "cell_type": "markdown",
   "metadata": {}
  },
  {
   "cell_type": "code",
   "execution_count": null,
   "metadata": {},
   "outputs": [],
   "source": [
    "numbers = [3, 5 ,7]\n",
    "\n",
    "print(numbers[5])"
   ]
  },
  {
   "source": [],
   "cell_type": "markdown",
   "metadata": {}
  },
  {
   "source": [
    "### 2.2 Accessing All Element\n",
    "\n",
    "You can use index to access all elements in a loop, one at a time. Python has a built-in function `len` to get the lenght of a lsit. Therefore, you can iterate over a list as the following:"
   ],
   "cell_type": "markdown",
   "metadata": {}
  },
  {
   "cell_type": "code",
   "execution_count": null,
   "metadata": {},
   "outputs": [],
   "source": [
    "numbers = [3, 5, 7]\n",
    "length = len(numbers)\n",
    "for index in range(length):\n",
    "    print(f'Index: {index}, Value: {numbers[index]}')"
   ]
  },
  {
   "source": [
    "The above method is often used when you need to use the index. For example, you want to show the order of a sorted list. If you don't need the index, Python provides an easier method to iterate over a list using a `for` loop:"
   ],
   "cell_type": "markdown",
   "metadata": {}
  },
  {
   "cell_type": "code",
   "execution_count": null,
   "metadata": {},
   "outputs": [],
   "source": [
    "numbers = list(range(3, 8, 2))\n",
    "for number in numbers:\n",
    "    doubled = number * 2\n",
    "    print(f'Double elment {number} is {doubled}')"
   ]
  },
  {
   "source": [
    "The `for` loop is preferred when you don't need the index because it is simpler than looping with index. It is also less error-prone because you don't need to check the index boundaries."
   ],
   "cell_type": "markdown",
   "metadata": {}
  },
  {
   "source": [
    "### 2.3 Slicing a List\n",
    "\n",
    "A `slice` is a span of items taken from a list. It is used to select some elements from a list. To slice a list, you use the `list_name[start : end]` to specify the start index and end index of a list. Like the `range` syntax, it doesn't include the `end` index. Following are some examples:"
   ],
   "cell_type": "markdown",
   "metadata": {}
  },
  {
   "source": [
    "days = ['Mon', 'Tue', 'Wed', 'Thu', 'Fri', 'Sat', 'Sun']\n",
    "\n",
    "# index from 0 to 5, excluding 5\n",
    "weekday = days[0:5] \n",
    "print(f'Weekdays are: {weekday}')\n",
    "\n",
    "# default start is 0\n",
    "weekday2 = days[:5] \n",
    "print(f'Weekdays version 2 are: {weekday}')\n",
    "\n",
    "weekends = days[5:7]\n",
    "print(f'Weekends are {weekends}')\n",
    "\n",
    "# default end is the length\n",
    "weekends2 = days[5:] \n",
    "print(f'Weekends versioin 2 are {weekends}')"
   ],
   "cell_type": "code",
   "metadata": {},
   "execution_count": null,
   "outputs": []
  },
  {
   "source": [
    "## 3 List Operations\n",
    "\n",
    "There are three types of operations to manipulate a list.\n",
    "\n",
    "- operators: Python language provides operators such as `in`, `not in`, `+`, `*`, and `del` that work with a list.\n",
    "- built-in functions: Python provides some built-in functions that take list(s) as argument(s). For example: `len`, `min`, `max` etc.\n",
    "- list methods: you use `list_name.method_name()` to perform operations. "
   ],
   "cell_type": "markdown",
   "metadata": {}
  },
  {
   "source": [
    "### 3.1 Python Operators\n",
    "\n",
    "- `in`: check if an item is a list element.\n",
    "- `not in`: check if an item is not a list element.\n",
    "- `+`: combine two lists\n",
    "- `*`: repete a list for a number of times\n",
    "- `del`: delete an element from a list\n"
   ],
   "cell_type": "markdown",
   "metadata": {}
  },
  {
   "cell_type": "code",
   "execution_count": null,
   "metadata": {},
   "outputs": [],
   "source": [
    "days = ['Mon', 'Tue', 'Wed', 'Thu', 'Fri', 'Sat', 'Sun']\n",
    "weekday = days[:5] \n",
    "\n",
    "today = 'Thu'\n",
    "is_weekday = today in weekday\n",
    "print(f'Today is {today}. Is weekday: {is_weekday}')\n",
    "\n",
    "is_weekend = today not in weekday\n",
    "print(f'Today is {today}. Is weekend: {is_weekend}')\n",
    "\n"
   ]
  },
  {
   "source": [
    "To combine two or more lists, using `+` to create a concatenated list. To repeat a list for a number of time to create a new list, use `*`."
   ],
   "cell_type": "markdown",
   "metadata": {}
  },
  {
   "cell_type": "code",
   "execution_count": null,
   "metadata": {},
   "outputs": [],
   "source": [
    "tens = [10, 20, 30]\n",
    "handreds = [500, 600, 700]\n",
    "tens_and_handreds = tens + handreds\n",
    "print(tens_and_handreds)\n",
    "\n",
    "repeated_tens = tens * 3\n",
    "print(repeated_tens)"
   ]
  },
  {
   "source": [
    "The `del` operator delete a list elment at the specified index. \n"
   ],
   "cell_type": "markdown",
   "metadata": {}
  },
  {
   "cell_type": "code",
   "execution_count": null,
   "metadata": {},
   "outputs": [],
   "source": [
    "numbers = [3, 5, 7]\n",
    "del numbers[1]\n",
    "print(f'Deleting elemnt at index 1, numbers are: {numbers}')"
   ]
  },
  {
   "source": [
    "### 3.2 Built-in Functions\n",
    "\n",
    "Soem commonly used built-in functions are\n",
    "\n",
    "- 'len': get the length of a list\n",
    "- 'min': get the minimum element of a list\n",
    "- 'max': get the maximum element of a list\n",
    "- 'sum': get the sum of number elements of a list"
   ],
   "cell_type": "markdown",
   "metadata": {}
  },
  {
   "cell_type": "code",
   "execution_count": null,
   "metadata": {},
   "outputs": [],
   "source": [
    "numbers = [3, 5, 7]\n",
    "length = len(numbers)\n",
    "smallest = min(numbers)\n",
    "biggest = max(numbers)\n",
    "total = sum(numbers)\n",
    "print(f'Length: {length}, Min: {smallest}, Max: {biggest}, Sum: {total}')"
   ]
  },
  {
   "source": [
    "You can find more functions such as `mean`, `median` etc in the Python [`statistics` module](https://docs.python.org/3/library/statistics.html)."
   ],
   "cell_type": "markdown",
   "metadata": {}
  },
  {
   "source": [
    "### 3.3 List Methods\n",
    "\n",
    "Lists have numerous methods that you can use to manipulate a list. You use `list_name.method_name()` to call a method that work on a list. Some commonly used methods are:\n",
    "\n",
    "- `append(element)`: add an  to the end of the list.\n",
    "- `index(element)`: find the first index of an element, raise a `ValueError` if the item is not found. To avoid exception, use `elment in list_name` to check the existence first.\n",
    "- `insert(index, element)`: insert an item at the specified index.\n",
    "- `sort()`: sort the items in the list.\n",
    "\n",
    "You can find more list methods in [Python List Document](https://docs.python.org/3/tutorial/datastructures.html). Following are some code samples of the above methods."
   ],
   "cell_type": "markdown",
   "metadata": {}
  },
  {
   "source": [
    "numbers = [3, 5, 7]\n",
    "numbers.append(42) \n",
    "print(numbers) # [3, 5, 7, 42]\n",
    "\n",
    "if (5 in numbers):\n",
    "    print(numbers.index(5)) # 1\n",
    "\n",
    "\n",
    "numbers.insert(1, 50)\n",
    "print(numbers) # [3, 50, 5, 7, 42]\n",
    "\n",
    "numbers.sort()\n",
    "print(numbers) # [3, 5, 7, 42, 50]\n"
   ],
   "cell_type": "code",
   "metadata": {},
   "execution_count": null,
   "outputs": []
  },
  {
   "source": [
    "## List Comprehension\n",
    "\n",
    "List comprehension is an expression that generates a new list from an input list or a collection. A list comprehensioin can have three parts:\n",
    "\n",
    "- an iteration expression: this is a standard for loop like `for item in input_list`.\n",
    "- an expression for the return data. For example: `item * 2` that returns doubled value.\n",
    "- an optional `if` clasues that filter items based on a boolean expression. For example: `if item < 10`.\n",
    "\n",
    "Together, the syntax is `[result_expression itertion_expression if_clause]`.  For example, the following code generates a list that has double values of all even nubmers.\n"
   ],
   "cell_type": "markdown",
   "metadata": {}
  },
  {
   "cell_type": "code",
   "execution_count": 1,
   "metadata": {},
   "outputs": [
    {
     "output_type": "stream",
     "name": "stdout",
     "text": [
      "[4, 8, 12]\n"
     ]
    }
   ],
   "source": [
    "input_list = [1, 2, 3, 4, 5, 6, 7]\n",
    "new_list = [item * 2 for item in input_list if item % 2 == 0]\n",
    "print(new_list)\n"
   ]
  },
  {
   "source": [
    "The iteration expression can use a range or tuple data."
   ],
   "cell_type": "markdown",
   "metadata": {}
  },
  {
   "cell_type": "code",
   "execution_count": 2,
   "metadata": {},
   "outputs": [
    {
     "output_type": "stream",
     "name": "stdout",
     "text": [
      "[20, 24, 28, 32, 36]\n"
     ]
    }
   ],
   "source": [
    "new_list2 = [item * 2 for item in range(10, 20) if item % 2 == 0]\n",
    "print(new_list2)"
   ]
  },
  {
   "cell_type": "code",
   "execution_count": null,
   "metadata": {},
   "outputs": [],
   "source": []
  }
 ]
}