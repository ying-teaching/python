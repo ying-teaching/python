{
 "metadata": {
  "language_info": {
   "codemirror_mode": {
    "name": "ipython",
    "version": 3
   },
   "file_extension": ".py",
   "mimetype": "text/x-python",
   "name": "python",
   "nbconvert_exporter": "python",
   "pygments_lexer": "ipython3",
   "version": "3.8.5-final"
  },
  "orig_nbformat": 2,
  "kernelspec": {
   "name": "python3",
   "display_name": "Python 3.8.5 64-bit",
   "metadata": {
    "interpreter": {
     "hash": "aee8b7b246df8f9039afb4144a1f6fd8d2ca17a180786b69acc140d282b71a49"
    }
   }
  }
 },
 "nbformat": 4,
 "nbformat_minor": 2,
 "cells": [
  {
   "source": [
    "# Dictionaries\n",
    "\n",
    "A dictionary is an unordered collection of elements where each element has two parts: a key and a value. Or you can say that an element is a key-value pair.\n",
    "\n",
    "A dictioinary is unordered. It means that when you iterate over or print a dictionary, the order of elements is not guaranteed. It may change when elements are added or removed from the dictionary. \n",
    "\n",
    "The key can be any object as long as it is immutable. Common key types include `int` and `string`.\n",
    "\n",
    "People use dictionaries to store key-value pairs thus it is easy to find out a value. For example, you use `student_id` to retrieve a student object.\n",
    "\n",
    "## 1 Creating a Dictionary\n",
    "\n",
    "You use `{}` to create a dictionary. The `{}` creates an empty dictionary. To create elements, create a sequnce of `key: value` pairs separated by `,`."
   ],
   "cell_type": "markdown",
   "metadata": {}
  },
  {
   "cell_type": "code",
   "execution_count": null,
   "metadata": {},
   "outputs": [],
   "source": [
    "empty_dict = {}\n",
    "print(empty_dict)\n",
    "\n",
    "students = {90: 'Alice', 27: 'Bob', 50: 'Cindy'}\n",
    "print(students)\n",
    "\n",
    "more_students = {90: 'Alice', 27: 'Bob', 90: 'Cindy', 200: 'Mike'}\n",
    "print(more_students)"
   ]
  },
  {
   "source": [
    "In the above examples, `more_students` has two elements that have the same key of `90`. Python only store the last element that has the same key.\n",
    "\n",
    "You can use a dictionary variable as a boolean expression to check if it is empty"
   ],
   "cell_type": "markdown",
   "metadata": {}
  },
  {
   "source": [
    "## 2 Basic Operations\n",
    "\n",
    "You can use a dictionary variable as a boolean expression to check if it is empty. The built-in `len` function tells how many elements in a dictionary."
   ],
   "cell_type": "markdown",
   "metadata": {}
  },
  {
   "cell_type": "code",
   "execution_count": null,
   "metadata": {},
   "outputs": [],
   "source": [
    "if empty_dict: \n",
    "    print('empty_dict is NOT empty')\n",
    "else:\n",
    "    print('empty_dict is empty')\n",
    "\n",
    "print(f'empty_dict has {len(empty_dict)} elements')\n",
    "\n",
    "if students:\n",
    "    print('students is NOT empty')\n",
    "else:\n",
    "    print('students is empty')\n",
    "print(f'students has {len(students)} elements')"
   ]
  },
  {
   "source": [
    "The `in` and `not in` operators test whether a key exists in a dictionary.\n"
   ],
   "cell_type": "markdown",
   "metadata": {}
  },
  {
   "cell_type": "code",
   "execution_count": null,
   "metadata": {},
   "outputs": [],
   "source": [
    "month_days = {'Jan': 31, 'Apr': 30, 'Jul': 31}\n",
    "\n",
    "if 'Jan' in month_days:\n",
    "    print('Jan is in the dictionary')\n",
    "\n",
    "if 'Feb' not in month_days:\n",
    "    print('Feb is not in the dictionary')"
   ]
  },
  {
   "source": [
    "The `del` operator delete a key-value pair from a dictionary if the specified key exists, otherwise, it throws a `KeyError` exception. The syntax is `del dictionary_name[key]`. \n",
    "\n",
    "To avoid exception, use `in` to make sure the key is there before `del`."
   ],
   "cell_type": "markdown",
   "metadata": {}
  },
  {
   "source": [
    "month_days = {'Jan': 31, 'Apr': 30, 'Jul': 31}\n",
    "\n",
    "if 'Jan' in month_days:\n",
    "    del month_days['Jan']\n",
    "    print(month_days)\n",
    "\n",
    "# throw a KeyError exception because the key doesn't exist\n",
    "del month_days['Jan']\n",
    "print(month_days)\n"
   ],
   "cell_type": "code",
   "metadata": {},
   "execution_count": null,
   "outputs": []
  },
  {
   "source": [
    "## 3 Reading or Writing a Dictionary Element\n",
    "\n",
    "You uses the `dictionary_name[key]` to access an individual element. You can read or update the value in the key-value pair. There is no way to change the key because it is immutable. However, you can delete an element and insert another element if that's what you want."
   ],
   "cell_type": "markdown",
   "metadata": {}
  },
  {
   "cell_type": "code",
   "execution_count": null,
   "metadata": {},
   "outputs": [],
   "source": [
    "students = {90: 'Alice', 27: 'Bob', 50: 'Cindy'}\n",
    "\n",
    "# read a value for a key\n",
    "name_with_id_90 = students[90]\n",
    "print(name_with_id_90)\n",
    "\n",
    "# change a value for a key\n",
    "students[90] = 'Mike'\n",
    "print(students[90])\n",
    "\n",
    "# add a new key-value pair because 97 doesn't exist\n",
    "students[97] = 'Bill'\n",
    "print(students)\n",
    "\n",
    "# reading a value for a non-exist key throws a KeyError exception\n",
    "name_nobody = students[404]"
   ]
  },
  {
   "source": [
    "Becareful, there are two cases that could be wrong in using dictionries: \n",
    "\n",
    "- A non exist key throws a `KeyError` exception. To avoid it, use `get` method with a specified default value. For example: `students.get(42, 'Unknown')`\n",
    "- when the `dictionary_name[key]` is on the left hand side, you set a new value for an existing key or create a new key-value pair if the key doesn't exist. Any typo in the key name could be a big bug."
   ],
   "cell_type": "markdown",
   "metadata": {}
  },
  {
   "source": [
    "## 4 Iterating a Dictionary\n",
    "\n",
    "You can use `for key in dictionary_name:` to iterate over all keys of a dictionary. Then you use `dictionary_name[key]` to access each value."
   ],
   "cell_type": "markdown",
   "metadata": {}
  },
  {
   "cell_type": "code",
   "execution_count": null,
   "metadata": {},
   "outputs": [],
   "source": [
    "month_days = {'Jan': 31, 'Apr': 30, 'Jul': 31}\n",
    "\n",
    "for month in month_days:\n",
    "    print(f'{month} has {month_days[month]} days')"
   ]
  },
  {
   "source": [
    "The `items` method returns a sequence of key-value pairs. Therefore, you can use `for key, value in dictionary_name.items():` to iterate over a dictionary."
   ],
   "cell_type": "markdown",
   "metadata": {}
  },
  {
   "cell_type": "code",
   "execution_count": null,
   "metadata": {},
   "outputs": [],
   "source": [
    "month_days = {'Jan': 31, 'Apr': 30, 'Jul': 31}\n",
    "\n",
    "for month, days in month_days.items():\n",
    "    print(f'{month} has {days} days')"
   ]
  },
  {
   "source": [
    "The `values()` method returns all values correspondingly. Don't assume any order of the return values !"
   ],
   "cell_type": "markdown",
   "metadata": {}
  },
  {
   "cell_type": "code",
   "execution_count": null,
   "metadata": {},
   "outputs": [],
   "source": [
    "month_days = {'Jan': 31, 'Apr': 30, 'Jul': 31}\n",
    "\n",
    "days_sequence = month_days.values()\n",
    "for days in days_sequence:\n",
    "    print(days, end=' ')"
   ]
  },
  {
   "source": [
    "The `items()`, `keys()` and `values()` return an iterable collection. It is a bultin-object. You can convert an iterable collection to a list using the `list(iterable)` built-in funciton. In the following example, the `key-value` pair of `items()` method is a tuple of `(key, value)`."
   ],
   "cell_type": "markdown",
   "metadata": {}
  },
  {
   "cell_type": "code",
   "execution_count": null,
   "metadata": {},
   "outputs": [],
   "source": [
    "month_days = {'Jan': 31, 'Apr': 30, 'Jul': 31}\n",
    "\n",
    "item_list = list(month_days.items())\n",
    "print(item_list)\n",
    "\n",
    "key_list = list(month_days.keys())\n",
    "print(key_list)\n",
    "\n",
    "value_list = list(month_days.values())\n",
    "print(value_list)"
   ]
  },
  {
   "source": [
    "# 5 More Methods\n",
    "\n",
    "The dictionary has more methods. The following is a list of commonly-used methods. Try them.\n",
    "\n",
    "- `clear`: clear all elements\n",
    "- `pop`: return the value and remove the key-value pair. For example: `month_days.pop('Jan')`.\n",
    "- `popitem`: remove the latest inserted element the dictionary, return the removed element. For example: `month_days.popitem()`."
   ],
   "cell_type": "markdown",
   "metadata": {}
  }
 ]
}