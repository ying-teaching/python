{
 "metadata": {
  "language_info": {
   "codemirror_mode": {
    "name": "ipython",
    "version": 3
   },
   "file_extension": ".py",
   "mimetype": "text/x-python",
   "name": "python",
   "nbconvert_exporter": "python",
   "pygments_lexer": "ipython3",
   "version": "3.8.5-final"
  },
  "orig_nbformat": 2,
  "kernelspec": {
   "name": "Python 3.8.5 64-bit",
   "display_name": "Python 3.8.5 64-bit",
   "metadata": {
    "interpreter": {
     "hash": "aee8b7b246df8f9039afb4144a1f6fd8d2ca17a180786b69acc140d282b71a49"
    }
   }
  }
 },
 "nbformat": 4,
 "nbformat_minor": 2,
 "cells": [
  {
   "source": [
    "# Data Science\n",
    "\n",
    "Python `list` is simple and good tool to process simple and small dataset. For large dataset, [NumPy](https://numpy.org/) has much better performance than the Python list data type. However, real world data science requires more features such as friendly index names, more data types and more functions. Based on Numpy, [Pandas](https://pandas.pydata.org/) is a fast, powerful and easy to use data analysis tool. This section creates a data analysis project using Pandas.\n"
   ],
   "cell_type": "markdown",
   "metadata": {}
  },
  {
   "source": [
    "## 1 The Task\n",
    "\n",
    "Suppose that you are a teacher. By the end of a semester, you want to analyze student scores and grade the class. You want to understand the statistic description of the scores. Additionally, you want to grade the class based on the following rules:\n",
    "\n",
    "- A student get an `A` if his average score is higer or equal `90`.\n",
    "- A student get an `B` if his average score is higer or equal `80`.\n",
    "- A student get an `C` if his average score is higer or equal `70`.\n",
    "- Otherwise, a student get a `D`."
   ],
   "cell_type": "markdown",
   "metadata": {}
  },
  {
   "source": [
    "## 2 Load Data\n",
    "\n",
    "Large datasets are usually stored in files or in databases. For simplicity, this project load data from csv file. A [comma-separated values](https://en.wikipedia.org/wiki/Comma-separated_values) file is a text file that uses commas to separate values. You can export Excel data or database data to a csv file. in The data file used here is a csv file named `scores.csv`, it is in the current folder. The csv file is exported from an Excel file named `scores.xlsx` that is also include in the current folder."
   ],
   "cell_type": "markdown",
   "metadata": {}
  },
  {
   "cell_type": "code",
   "execution_count": 7,
   "metadata": {},
   "outputs": [
    {
     "output_type": "stream",
     "name": "stdout",
     "text": [
      "       Wally  Eva  Sam  Katie  Bob\nTest1     87  100   94    100   83\nTest2     96   87   77     81   65\nTest3     70   90   90     82   85\nWally    int64\nEva      int64\nSam      int64\nKatie    int64\nBob      int64\ndtype: object\n"
     ]
    }
   ],
   "source": [
    "import pandas as pd\n",
    "\n",
    "scores = pd.read_csv('scores.csv', header=0, index_col=0)\n",
    "print(scores)"
   ]
  },
  {
   "source": [
    "In the above code, we set the `header=0` and `index_col=0` to specify the column names and index names. You can use the VSCode Data Viewer to check that it reads the correct data. To compare with built-in `list` data type and NumPy's `ndarray`, having column names and index names really helps the data analysis."
   ],
   "cell_type": "markdown",
   "metadata": {}
  },
  {
   "source": [
    "## 2 Data Description\n",
    "\n",
    "Pandas use `Serie` for one-dimensional array and `DataFrame` for two-dimenional array. Both have a `describe` method that computes basic descriptive statistics."
   ],
   "cell_type": "markdown",
   "metadata": {}
  },
  {
   "cell_type": "code",
   "execution_count": 8,
   "metadata": {},
   "outputs": [
    {
     "output_type": "execute_result",
     "data": {
      "text/plain": [
       "           Wally         Eva        Sam       Katie        Bob\n",
       "count   3.000000    3.000000   3.000000    3.000000   3.000000\n",
       "mean   84.333333   92.333333  87.000000   87.666667  77.666667\n",
       "std    13.203535    6.806859   8.888194   10.692677  11.015141\n",
       "min    70.000000   87.000000  77.000000   81.000000  65.000000\n",
       "25%    78.500000   88.500000  83.500000   81.500000  74.000000\n",
       "50%    87.000000   90.000000  90.000000   82.000000  83.000000\n",
       "75%    91.500000   95.000000  92.000000   91.000000  84.000000\n",
       "max    96.000000  100.000000  94.000000  100.000000  85.000000"
      ],
      "text/html": "<div>\n<style scoped>\n    .dataframe tbody tr th:only-of-type {\n        vertical-align: middle;\n    }\n\n    .dataframe tbody tr th {\n        vertical-align: top;\n    }\n\n    .dataframe thead th {\n        text-align: right;\n    }\n</style>\n<table border=\"1\" class=\"dataframe\">\n  <thead>\n    <tr style=\"text-align: right;\">\n      <th></th>\n      <th>Wally</th>\n      <th>Eva</th>\n      <th>Sam</th>\n      <th>Katie</th>\n      <th>Bob</th>\n    </tr>\n  </thead>\n  <tbody>\n    <tr>\n      <th>count</th>\n      <td>3.000000</td>\n      <td>3.000000</td>\n      <td>3.000000</td>\n      <td>3.000000</td>\n      <td>3.000000</td>\n    </tr>\n    <tr>\n      <th>mean</th>\n      <td>84.333333</td>\n      <td>92.333333</td>\n      <td>87.000000</td>\n      <td>87.666667</td>\n      <td>77.666667</td>\n    </tr>\n    <tr>\n      <th>std</th>\n      <td>13.203535</td>\n      <td>6.806859</td>\n      <td>8.888194</td>\n      <td>10.692677</td>\n      <td>11.015141</td>\n    </tr>\n    <tr>\n      <th>min</th>\n      <td>70.000000</td>\n      <td>87.000000</td>\n      <td>77.000000</td>\n      <td>81.000000</td>\n      <td>65.000000</td>\n    </tr>\n    <tr>\n      <th>25%</th>\n      <td>78.500000</td>\n      <td>88.500000</td>\n      <td>83.500000</td>\n      <td>81.500000</td>\n      <td>74.000000</td>\n    </tr>\n    <tr>\n      <th>50%</th>\n      <td>87.000000</td>\n      <td>90.000000</td>\n      <td>90.000000</td>\n      <td>82.000000</td>\n      <td>83.000000</td>\n    </tr>\n    <tr>\n      <th>75%</th>\n      <td>91.500000</td>\n      <td>95.000000</td>\n      <td>92.000000</td>\n      <td>91.000000</td>\n      <td>84.000000</td>\n    </tr>\n    <tr>\n      <th>max</th>\n      <td>96.000000</td>\n      <td>100.000000</td>\n      <td>94.000000</td>\n      <td>100.000000</td>\n      <td>85.000000</td>\n    </tr>\n  </tbody>\n</table>\n</div>"
     },
     "metadata": {},
     "execution_count": 8
    }
   ],
   "source": [
    "# to get descriptive statistics for each student\n",
    "scores.describe()"
   ]
  },
  {
   "cell_type": "code",
   "execution_count": 9,
   "metadata": {},
   "outputs": [
    {
     "output_type": "execute_result",
     "data": {
      "text/plain": [
       "            Test1     Test2      Test3\n",
       "count    5.000000   5.00000   5.000000\n",
       "mean    92.800000  81.20000  83.400000\n",
       "std      7.661593  11.54123   8.234076\n",
       "min     83.000000  65.00000  70.000000\n",
       "25%     87.000000  77.00000  82.000000\n",
       "50%     94.000000  81.00000  85.000000\n",
       "75%    100.000000  87.00000  90.000000\n",
       "max    100.000000  96.00000  90.000000"
      ],
      "text/html": "<div>\n<style scoped>\n    .dataframe tbody tr th:only-of-type {\n        vertical-align: middle;\n    }\n\n    .dataframe tbody tr th {\n        vertical-align: top;\n    }\n\n    .dataframe thead th {\n        text-align: right;\n    }\n</style>\n<table border=\"1\" class=\"dataframe\">\n  <thead>\n    <tr style=\"text-align: right;\">\n      <th></th>\n      <th>Test1</th>\n      <th>Test2</th>\n      <th>Test3</th>\n    </tr>\n  </thead>\n  <tbody>\n    <tr>\n      <th>count</th>\n      <td>5.000000</td>\n      <td>5.00000</td>\n      <td>5.000000</td>\n    </tr>\n    <tr>\n      <th>mean</th>\n      <td>92.800000</td>\n      <td>81.20000</td>\n      <td>83.400000</td>\n    </tr>\n    <tr>\n      <th>std</th>\n      <td>7.661593</td>\n      <td>11.54123</td>\n      <td>8.234076</td>\n    </tr>\n    <tr>\n      <th>min</th>\n      <td>83.000000</td>\n      <td>65.00000</td>\n      <td>70.000000</td>\n    </tr>\n    <tr>\n      <th>25%</th>\n      <td>87.000000</td>\n      <td>77.00000</td>\n      <td>82.000000</td>\n    </tr>\n    <tr>\n      <th>50%</th>\n      <td>94.000000</td>\n      <td>81.00000</td>\n      <td>85.000000</td>\n    </tr>\n    <tr>\n      <th>75%</th>\n      <td>100.000000</td>\n      <td>87.00000</td>\n      <td>90.000000</td>\n    </tr>\n    <tr>\n      <th>max</th>\n      <td>100.000000</td>\n      <td>96.00000</td>\n      <td>90.000000</td>\n    </tr>\n  </tbody>\n</table>\n</div>"
     },
     "metadata": {},
     "execution_count": 9
    }
   ],
   "source": [
    "# to get descriptive statistics for each test\n",
    "scores.T.describe()"
   ]
  },
  {
   "source": [
    "## 3 Assigning Grade\n",
    "\n",
    "What we want is to calculate a new dataframe that assign grade `A`, `B`, `C`, and `D` based on each student's mean score. First, you can get everyone's mean score using the `mean()` method."
   ],
   "cell_type": "markdown",
   "metadata": {}
  },
  {
   "cell_type": "code",
   "execution_count": 12,
   "metadata": {},
   "outputs": [
    {
     "output_type": "stream",
     "name": "stdout",
     "text": [
      "Wally    84.333333\nEva      92.333333\nSam      87.000000\nKatie    87.666667\nBob      77.666667\ndtype: float64\n"
     ]
    }
   ],
   "source": [
    "means = scores.mean()\n",
    "print(means)"
   ]
  },
  {
   "source": [
    "Then we define a function that convert the scores to corresponding letter grade."
   ],
   "cell_type": "markdown",
   "metadata": {}
  },
  {
   "cell_type": "code",
   "execution_count": 13,
   "metadata": {},
   "outputs": [],
   "source": [
    "def assign_grade(score):\n",
    "    if score >= 90:\n",
    "        letter = 'A'\n",
    "    elif score >= 80:\n",
    "        letter = 'B'\n",
    "    elif score >= 70:\n",
    "        letter = 'C'\n",
    "    else:\n",
    "        letter = 'D'\n",
    "    \n",
    "    return letter"
   ]
  },
  {
   "source": [
    "Then you transform the `means` to letter grades."
   ],
   "cell_type": "markdown",
   "metadata": {}
  },
  {
   "cell_type": "code",
   "execution_count": 16,
   "metadata": {},
   "outputs": [
    {
     "output_type": "stream",
     "name": "stdout",
     "text": [
      "Wally    B\nEva      A\nSam      B\nKatie    B\nBob      C\ndtype: object\n"
     ]
    }
   ],
   "source": [
    "grades = means.transform(assign_grade)\n",
    "print(grades)"
   ]
  },
  {
   "source": [
    "You can print it in the sorted order by student names."
   ],
   "cell_type": "markdown",
   "metadata": {}
  },
  {
   "cell_type": "code",
   "execution_count": 17,
   "metadata": {},
   "outputs": [
    {
     "output_type": "execute_result",
     "data": {
      "text/plain": [
       "Bob      C\n",
       "Eva      A\n",
       "Katie    B\n",
       "Sam      B\n",
       "Wally    B\n",
       "dtype: object"
      ]
     },
     "metadata": {},
     "execution_count": 17
    }
   ],
   "source": [
    "grades.sort_index()"
   ]
  }
 ]
}