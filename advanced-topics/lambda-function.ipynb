{
 "metadata": {
  "language_info": {
   "codemirror_mode": {
    "name": "ipython",
    "version": 3
   },
   "file_extension": ".py",
   "mimetype": "text/x-python",
   "name": "python",
   "nbconvert_exporter": "python",
   "pygments_lexer": "ipython3",
   "version": "3.8.5-final"
  },
  "orig_nbformat": 2,
  "kernelspec": {
   "name": "Python 3.8.5 64-bit",
   "display_name": "Python 3.8.5 64-bit",
   "metadata": {
    "interpreter": {
     "hash": "aee8b7b246df8f9039afb4144a1f6fd8d2ca17a180786b69acc140d282b71a49"
    }
   }
  }
 },
 "nbformat": 4,
 "nbformat_minor": 2,
 "cells": [
  {
   "source": [
    "# Lambda Function\n",
    "\n",
    "Lambda functions, also called [Lambda Expressions](https://docs.python.org/3/tutorial/controlflow.html#lambda-expressions), are small anonymous functions that are created with the `lambda` keyword.\n",
    "\n",
    "Many Python functions/methods can take functions as arguments, lambda functions can be used in stead of a normal function. They are used for one-time, small function definitions."
   ],
   "cell_type": "markdown",
   "metadata": {}
  },
  {
   "source": [
    "## 1 Lambda Function Syntax\n",
    "\n",
    "A lambda function is an anonymous function that defined by a `lambda` keyword followed by a common-separated paramter list, a `:` and an expression that returned as the return value of funciton execution. The syntax is as the following:\n"
   ],
   "cell_type": "markdown",
   "metadata": {}
  },
  {
   "cell_type": "code",
   "execution_count": null,
   "metadata": {},
   "outputs": [],
   "source": [
    "lambda parameter_list: expression"
   ]
  },
  {
   "source": [
    "Technically, the corresponding normal fucntion is defined as:"
   ],
   "cell_type": "markdown",
   "metadata": {}
  },
  {
   "cell_type": "code",
   "execution_count": null,
   "metadata": {},
   "outputs": [],
   "source": [
    "def function_name(parameter_list):\n",
    "    return expression"
   ]
  },
  {
   "source": [
    "The following are two examples of lambda functions and the corresponding normal fucntions."
   ],
   "cell_type": "markdown",
   "metadata": {}
  },
  {
   "source": [
    "# anonymous function that adds 1 to its parameter\n",
    "lambda x: x + 1\n",
    "\n",
    "# normal function that adds 1 to its parameter\n",
    "def increment(x): \n",
    "    return x + 1\n",
    "\n",
    "# anonymous function that checks even number\n",
    "lambda x: x % 2 == 0\n",
    "\n",
    "# normal function that checks even number\n",
    "def isEven(x):\n",
    "    return x % 2 == 0"
   ],
   "cell_type": "code",
   "metadata": {},
   "execution_count": 2,
   "outputs": []
  },
  {
   "source": [
    "## 2 Filter and Map\n",
    "\n",
    "Because a lambda fuction is an expression, it is useless by itself. It is used in places where a normal function is expected, for example, as an argument to another function.\n",
    "\n",
    "The built-in `filter` function takes two parameters: `filter(function, iterable)`.  The first parameter is a function, the second is an iterable data collection that could be a list or a tuple. The `range` function also returns an iterable collection. The `filter` applies the function (first parameter) to each element of the second paramter, if the result is true, the element will be included in the result, otherwise, the element is discarded. Therefore, the first parameter is also called a `predicate`. The result of `filter` function is an iterable, not a `list` or a `tuple`. \n",
    "\n",
    "You can use either a normal function or a lambda funciton as the first parameter.\n"
   ],
   "cell_type": "markdown",
   "metadata": {}
  },
  {
   "cell_type": "code",
   "execution_count": 4,
   "metadata": {},
   "outputs": [
    {
     "output_type": "stream",
     "name": "stdout",
     "text": [
      "[8, 10]\n[8, 10]\n"
     ]
    }
   ],
   "source": [
    "numbers = [1, 5, 8, 10, 17]\n",
    "\n",
    "even_numbers1 = filter(isEven, numbers)\n",
    "even_numbers2 = filter(lambda x: x % 2 == 0, numbers)\n",
    "\n",
    "# the result is an iterable object, convert it to a list\n",
    "print(list(even_numbers1))\n",
    "print(list(even_numbers2))\n"
   ]
  },
  {
   "source": [
    "Similarly, the `map` function applies a function to each element of an iterable collection and returns an iterable collection. The result should have the same number of elements as the original collection, each elemen is the result of applying the function to the original collection.\n",
    "\n"
   ],
   "cell_type": "markdown",
   "metadata": {}
  },
  {
   "cell_type": "code",
   "execution_count": 6,
   "metadata": {},
   "outputs": [
    {
     "output_type": "stream",
     "name": "stdout",
     "text": [
      "[2, 6, 9, 11, 18]\n[2, 6, 9, 11, 18]\n"
     ]
    }
   ],
   "source": [
    "numbers = [1, 5, 8, 10, 17]\n",
    "\n",
    "numbers1 = map(increment, numbers)\n",
    "numbers2 = map(lambda x: x + 1, numbers)\n",
    "\n",
    "# the result is an iterable object, convert it to a list\n",
    "print(list(numbers1))\n",
    "print(list(numbers2))"
   ]
  },
  {
   "source": [
    "You can use `map` and `filter` together like the following:"
   ],
   "cell_type": "markdown",
   "metadata": {}
  },
  {
   "cell_type": "code",
   "execution_count": 8,
   "metadata": {},
   "outputs": [
    {
     "output_type": "stream",
     "name": "stdout",
     "text": [
      "[9, 11]\n[8, 10]\n"
     ]
    }
   ],
   "source": [
    "numbers = [1, 5, 8, 10, 17]\n",
    "\n",
    "even_numbers1 = filter(lambda x: x % 2 == 0, numbers)\n",
    "even_added = map(lambda x: x + 1, even_numbers1)\n",
    "print(list(even_added))\n",
    "\n",
    "added = map(lambda x: x + 1, numbers)\n",
    "added_even = filter(lambda x: x % 2 == 0, numbers)\n",
    "print(list(added_even))\n"
   ]
  }
 ]
}